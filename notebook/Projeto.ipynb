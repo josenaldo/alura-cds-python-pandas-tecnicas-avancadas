{
 "cells": [
  {
   "cell_type": "markdown",
   "metadata": {
    "id": "VvKng5_devgH"
   },
   "source": [
    "# PANDAS AVANÇADO\n",
    "---"
   ]
  },
  {
   "cell_type": "markdown",
   "metadata": {
    "id": "99IUfbszevgO"
   },
   "source": [
    "# CARREGANDO OS DADOS\n",
    "---"
   ]
  },
  {
   "cell_type": "markdown",
   "metadata": {
    "id": "VYIHv0csevgP"
   },
   "source": [
    "## Configurações do projeto"
   ]
  },
  {
   "cell_type": "markdown",
   "metadata": {
    "id": "P_gXKCYpevgP"
   },
   "source": [
    "### Importando pacotes"
   ]
  },
  {
   "cell_type": "code",
   "execution_count": 1,
   "metadata": {
    "ExecuteTime": {
     "end_time": "2020-10-25T16:41:53.996410Z",
     "start_time": "2020-10-25T16:41:53.989428Z"
    },
    "id": "s-xCbXDzevgQ"
   },
   "outputs": [],
   "source": [
    "import pandas as pd # noqa E402"
   ]
  },
  {
   "cell_type": "code",
   "execution_count": 2,
   "metadata": {
    "ExecuteTime": {
     "end_time": "2020-10-25T16:41:54.449198Z",
     "start_time": "2020-10-25T16:41:54.436233Z"
    },
    "id": "-BWaF1-uevgQ"
   },
   "outputs": [
    {
     "data": {
      "text/plain": [
       "'1.4.2'"
      ]
     },
     "execution_count": 2,
     "metadata": {},
     "output_type": "execute_result"
    }
   ],
   "source": [
    "pd.__version__"
   ]
  },
  {
   "cell_type": "markdown",
   "metadata": {
    "id": "4S6wyakFevgQ"
   },
   "source": [
    "### Opções de configuração\n",
    "\n",
    "[Documentação](https://pandas.pydata.org/pandas-docs/stable/user_guide/options.html)"
   ]
  },
  {
   "cell_type": "code",
   "execution_count": 3,
   "metadata": {
    "id": "6UVcvI0-evgR"
   },
   "outputs": [
    {
     "data": {
      "text/plain": [
       "60"
      ]
     },
     "execution_count": 3,
     "metadata": {},
     "output_type": "execute_result"
    }
   ],
   "source": [
    "pd.get_option('display.max_rows')"
   ]
  },
  {
   "cell_type": "code",
   "execution_count": 4,
   "metadata": {
    "id": "A8Nvt66tevgR"
   },
   "outputs": [
    {
     "data": {
      "text/plain": [
       "20"
      ]
     },
     "execution_count": 4,
     "metadata": {},
     "output_type": "execute_result"
    }
   ],
   "source": [
    "pd.get_option('display.max_columns')"
   ]
  },
  {
   "cell_type": "markdown",
   "metadata": {
    "id": "xmP4ARNSevgR"
   },
   "source": [
    "[Opções disponíveis](https://pandas.pydata.org/pandas-docs/stable/user_guide/options.html#available-options)"
   ]
  },
  {
   "cell_type": "code",
   "execution_count": 6,
   "metadata": {
    "id": "rKUvxnvnevgS"
   },
   "outputs": [
    {
     "name": "stdout",
     "output_type": "stream",
     "text": [
      "display.max_columns : int\n",
      "    If max_cols is exceeded, switch to truncate view. Depending on\n",
      "    `large_repr`, objects are either centrally truncated or printed as\n",
      "    a summary view. 'None' value means unlimited.\n",
      "\n",
      "    In case python/IPython is running in a terminal and `large_repr`\n",
      "    equals 'truncate' this can be set to 0 and pandas will auto-detect\n",
      "    the width of the terminal and print a truncated object which fits\n",
      "    the screen width. The IPython notebook, IPython qtconsole, or IDLE\n",
      "    do not run in a terminal and hence it is not possible to do\n",
      "    correct auto-detection.\n",
      "    [default: 20] [currently: 20]\n"
     ]
    }
   ],
   "source": [
    "pd.describe_option('display.max_columns')"
   ]
  },
  {
   "cell_type": "code",
   "execution_count": 11,
   "metadata": {
    "id": "Gptfp9ygevgS"
   },
   "outputs": [
    {
     "data": {
      "text/html": [
       "<div>\n",
       "<style scoped>\n",
       "    .dataframe tbody tr th:only-of-type {\n",
       "        vertical-align: middle;\n",
       "    }\n",
       "\n",
       "    .dataframe tbody tr th {\n",
       "        vertical-align: top;\n",
       "    }\n",
       "\n",
       "    .dataframe thead th {\n",
       "        text-align: right;\n",
       "    }\n",
       "</style>\n",
       "<table border=\"1\" class=\"dataframe\">\n",
       "  <thead>\n",
       "    <tr style=\"text-align: right;\">\n",
       "      <th></th>\n",
       "      <th>0</th>\n",
       "      <th>1</th>\n",
       "      <th>2</th>\n",
       "      <th>3</th>\n",
       "      <th>4</th>\n",
       "      <th>5</th>\n",
       "      <th>6</th>\n",
       "      <th>7</th>\n",
       "      <th>8</th>\n",
       "      <th>9</th>\n",
       "      <th>...</th>\n",
       "      <th>90</th>\n",
       "      <th>91</th>\n",
       "      <th>92</th>\n",
       "      <th>93</th>\n",
       "      <th>94</th>\n",
       "      <th>95</th>\n",
       "      <th>96</th>\n",
       "      <th>97</th>\n",
       "      <th>98</th>\n",
       "      <th>99</th>\n",
       "    </tr>\n",
       "  </thead>\n",
       "  <tbody>\n",
       "    <tr>\n",
       "      <th>0</th>\n",
       "      <td>0</td>\n",
       "      <td>1</td>\n",
       "      <td>2</td>\n",
       "      <td>3</td>\n",
       "      <td>4</td>\n",
       "      <td>5</td>\n",
       "      <td>6</td>\n",
       "      <td>7</td>\n",
       "      <td>8</td>\n",
       "      <td>9</td>\n",
       "      <td>...</td>\n",
       "      <td>90</td>\n",
       "      <td>91</td>\n",
       "      <td>92</td>\n",
       "      <td>93</td>\n",
       "      <td>94</td>\n",
       "      <td>95</td>\n",
       "      <td>96</td>\n",
       "      <td>97</td>\n",
       "      <td>98</td>\n",
       "      <td>99</td>\n",
       "    </tr>\n",
       "    <tr>\n",
       "      <th>1</th>\n",
       "      <td>100</td>\n",
       "      <td>101</td>\n",
       "      <td>102</td>\n",
       "      <td>103</td>\n",
       "      <td>104</td>\n",
       "      <td>105</td>\n",
       "      <td>106</td>\n",
       "      <td>107</td>\n",
       "      <td>108</td>\n",
       "      <td>109</td>\n",
       "      <td>...</td>\n",
       "      <td>190</td>\n",
       "      <td>191</td>\n",
       "      <td>192</td>\n",
       "      <td>193</td>\n",
       "      <td>194</td>\n",
       "      <td>195</td>\n",
       "      <td>196</td>\n",
       "      <td>197</td>\n",
       "      <td>198</td>\n",
       "      <td>199</td>\n",
       "    </tr>\n",
       "    <tr>\n",
       "      <th>2</th>\n",
       "      <td>200</td>\n",
       "      <td>201</td>\n",
       "      <td>202</td>\n",
       "      <td>203</td>\n",
       "      <td>204</td>\n",
       "      <td>205</td>\n",
       "      <td>206</td>\n",
       "      <td>207</td>\n",
       "      <td>208</td>\n",
       "      <td>209</td>\n",
       "      <td>...</td>\n",
       "      <td>290</td>\n",
       "      <td>291</td>\n",
       "      <td>292</td>\n",
       "      <td>293</td>\n",
       "      <td>294</td>\n",
       "      <td>295</td>\n",
       "      <td>296</td>\n",
       "      <td>297</td>\n",
       "      <td>298</td>\n",
       "      <td>299</td>\n",
       "    </tr>\n",
       "    <tr>\n",
       "      <th>3</th>\n",
       "      <td>300</td>\n",
       "      <td>301</td>\n",
       "      <td>302</td>\n",
       "      <td>303</td>\n",
       "      <td>304</td>\n",
       "      <td>305</td>\n",
       "      <td>306</td>\n",
       "      <td>307</td>\n",
       "      <td>308</td>\n",
       "      <td>309</td>\n",
       "      <td>...</td>\n",
       "      <td>390</td>\n",
       "      <td>391</td>\n",
       "      <td>392</td>\n",
       "      <td>393</td>\n",
       "      <td>394</td>\n",
       "      <td>395</td>\n",
       "      <td>396</td>\n",
       "      <td>397</td>\n",
       "      <td>398</td>\n",
       "      <td>399</td>\n",
       "    </tr>\n",
       "    <tr>\n",
       "      <th>4</th>\n",
       "      <td>400</td>\n",
       "      <td>401</td>\n",
       "      <td>402</td>\n",
       "      <td>403</td>\n",
       "      <td>404</td>\n",
       "      <td>405</td>\n",
       "      <td>406</td>\n",
       "      <td>407</td>\n",
       "      <td>408</td>\n",
       "      <td>409</td>\n",
       "      <td>...</td>\n",
       "      <td>490</td>\n",
       "      <td>491</td>\n",
       "      <td>492</td>\n",
       "      <td>493</td>\n",
       "      <td>494</td>\n",
       "      <td>495</td>\n",
       "      <td>496</td>\n",
       "      <td>497</td>\n",
       "      <td>498</td>\n",
       "      <td>499</td>\n",
       "    </tr>\n",
       "    <tr>\n",
       "      <th>...</th>\n",
       "      <td>...</td>\n",
       "      <td>...</td>\n",
       "      <td>...</td>\n",
       "      <td>...</td>\n",
       "      <td>...</td>\n",
       "      <td>...</td>\n",
       "      <td>...</td>\n",
       "      <td>...</td>\n",
       "      <td>...</td>\n",
       "      <td>...</td>\n",
       "      <td>...</td>\n",
       "      <td>...</td>\n",
       "      <td>...</td>\n",
       "      <td>...</td>\n",
       "      <td>...</td>\n",
       "      <td>...</td>\n",
       "      <td>...</td>\n",
       "      <td>...</td>\n",
       "      <td>...</td>\n",
       "      <td>...</td>\n",
       "      <td>...</td>\n",
       "    </tr>\n",
       "    <tr>\n",
       "      <th>95</th>\n",
       "      <td>9500</td>\n",
       "      <td>9501</td>\n",
       "      <td>9502</td>\n",
       "      <td>9503</td>\n",
       "      <td>9504</td>\n",
       "      <td>9505</td>\n",
       "      <td>9506</td>\n",
       "      <td>9507</td>\n",
       "      <td>9508</td>\n",
       "      <td>9509</td>\n",
       "      <td>...</td>\n",
       "      <td>9590</td>\n",
       "      <td>9591</td>\n",
       "      <td>9592</td>\n",
       "      <td>9593</td>\n",
       "      <td>9594</td>\n",
       "      <td>9595</td>\n",
       "      <td>9596</td>\n",
       "      <td>9597</td>\n",
       "      <td>9598</td>\n",
       "      <td>9599</td>\n",
       "    </tr>\n",
       "    <tr>\n",
       "      <th>96</th>\n",
       "      <td>9600</td>\n",
       "      <td>9601</td>\n",
       "      <td>9602</td>\n",
       "      <td>9603</td>\n",
       "      <td>9604</td>\n",
       "      <td>9605</td>\n",
       "      <td>9606</td>\n",
       "      <td>9607</td>\n",
       "      <td>9608</td>\n",
       "      <td>9609</td>\n",
       "      <td>...</td>\n",
       "      <td>9690</td>\n",
       "      <td>9691</td>\n",
       "      <td>9692</td>\n",
       "      <td>9693</td>\n",
       "      <td>9694</td>\n",
       "      <td>9695</td>\n",
       "      <td>9696</td>\n",
       "      <td>9697</td>\n",
       "      <td>9698</td>\n",
       "      <td>9699</td>\n",
       "    </tr>\n",
       "    <tr>\n",
       "      <th>97</th>\n",
       "      <td>9700</td>\n",
       "      <td>9701</td>\n",
       "      <td>9702</td>\n",
       "      <td>9703</td>\n",
       "      <td>9704</td>\n",
       "      <td>9705</td>\n",
       "      <td>9706</td>\n",
       "      <td>9707</td>\n",
       "      <td>9708</td>\n",
       "      <td>9709</td>\n",
       "      <td>...</td>\n",
       "      <td>9790</td>\n",
       "      <td>9791</td>\n",
       "      <td>9792</td>\n",
       "      <td>9793</td>\n",
       "      <td>9794</td>\n",
       "      <td>9795</td>\n",
       "      <td>9796</td>\n",
       "      <td>9797</td>\n",
       "      <td>9798</td>\n",
       "      <td>9799</td>\n",
       "    </tr>\n",
       "    <tr>\n",
       "      <th>98</th>\n",
       "      <td>9800</td>\n",
       "      <td>9801</td>\n",
       "      <td>9802</td>\n",
       "      <td>9803</td>\n",
       "      <td>9804</td>\n",
       "      <td>9805</td>\n",
       "      <td>9806</td>\n",
       "      <td>9807</td>\n",
       "      <td>9808</td>\n",
       "      <td>9809</td>\n",
       "      <td>...</td>\n",
       "      <td>9890</td>\n",
       "      <td>9891</td>\n",
       "      <td>9892</td>\n",
       "      <td>9893</td>\n",
       "      <td>9894</td>\n",
       "      <td>9895</td>\n",
       "      <td>9896</td>\n",
       "      <td>9897</td>\n",
       "      <td>9898</td>\n",
       "      <td>9899</td>\n",
       "    </tr>\n",
       "    <tr>\n",
       "      <th>99</th>\n",
       "      <td>9900</td>\n",
       "      <td>9901</td>\n",
       "      <td>9902</td>\n",
       "      <td>9903</td>\n",
       "      <td>9904</td>\n",
       "      <td>9905</td>\n",
       "      <td>9906</td>\n",
       "      <td>9907</td>\n",
       "      <td>9908</td>\n",
       "      <td>9909</td>\n",
       "      <td>...</td>\n",
       "      <td>9990</td>\n",
       "      <td>9991</td>\n",
       "      <td>9992</td>\n",
       "      <td>9993</td>\n",
       "      <td>9994</td>\n",
       "      <td>9995</td>\n",
       "      <td>9996</td>\n",
       "      <td>9997</td>\n",
       "      <td>9998</td>\n",
       "      <td>9999</td>\n",
       "    </tr>\n",
       "  </tbody>\n",
       "</table>\n",
       "<p>100 rows × 100 columns</p>\n",
       "</div>"
      ],
      "text/plain": [
       "      0     1     2     3     4     5     6     7     8     9   ...    90  \\\n",
       "0      0     1     2     3     4     5     6     7     8     9  ...    90   \n",
       "1    100   101   102   103   104   105   106   107   108   109  ...   190   \n",
       "2    200   201   202   203   204   205   206   207   208   209  ...   290   \n",
       "3    300   301   302   303   304   305   306   307   308   309  ...   390   \n",
       "4    400   401   402   403   404   405   406   407   408   409  ...   490   \n",
       "..   ...   ...   ...   ...   ...   ...   ...   ...   ...   ...  ...   ...   \n",
       "95  9500  9501  9502  9503  9504  9505  9506  9507  9508  9509  ...  9590   \n",
       "96  9600  9601  9602  9603  9604  9605  9606  9607  9608  9609  ...  9690   \n",
       "97  9700  9701  9702  9703  9704  9705  9706  9707  9708  9709  ...  9790   \n",
       "98  9800  9801  9802  9803  9804  9805  9806  9807  9808  9809  ...  9890   \n",
       "99  9900  9901  9902  9903  9904  9905  9906  9907  9908  9909  ...  9990   \n",
       "\n",
       "      91    92    93    94    95    96    97    98    99  \n",
       "0     91    92    93    94    95    96    97    98    99  \n",
       "1    191   192   193   194   195   196   197   198   199  \n",
       "2    291   292   293   294   295   296   297   298   299  \n",
       "3    391   392   393   394   395   396   397   398   399  \n",
       "4    491   492   493   494   495   496   497   498   499  \n",
       "..   ...   ...   ...   ...   ...   ...   ...   ...   ...  \n",
       "95  9591  9592  9593  9594  9595  9596  9597  9598  9599  \n",
       "96  9691  9692  9693  9694  9695  9696  9697  9698  9699  \n",
       "97  9791  9792  9793  9794  9795  9796  9797  9798  9799  \n",
       "98  9891  9892  9893  9894  9895  9896  9897  9898  9899  \n",
       "99  9991  9992  9993  9994  9995  9996  9997  9998  9999  \n",
       "\n",
       "[100 rows x 100 columns]"
      ]
     },
     "execution_count": 11,
     "metadata": {},
     "output_type": "execute_result"
    }
   ],
   "source": [
    "import numpy as np # noqa E402\n",
    "\n",
    "df = pd.DataFrame(np.arange(10000).reshape(100, 100))\n",
    "df"
   ]
  },
  {
   "cell_type": "code",
   "execution_count": 12,
   "metadata": {
    "id": "QIif0CPGevgS"
   },
   "outputs": [],
   "source": [
    "pd.set_option('display.max_rows', 1000)\n",
    "pd.set_option('display.max_columns', 100)"
   ]
  },
  {
   "cell_type": "code",
   "execution_count": null,
   "metadata": {
    "id": "MY69H5oEevgS"
   },
   "outputs": [],
   "source": [
    "df"
   ]
  },
  {
   "cell_type": "code",
   "execution_count": 14,
   "metadata": {
    "id": "I2UKn2kWevgT"
   },
   "outputs": [],
   "source": [
    "pd.reset_option('display.max_rows')\n",
    "pd.reset_option('display.max_columns')"
   ]
  },
  {
   "cell_type": "code",
   "execution_count": 15,
   "metadata": {
    "id": "HaWo0sq5evgT"
   },
   "outputs": [
    {
     "data": {
      "text/html": [
       "<div>\n",
       "<style scoped>\n",
       "    .dataframe tbody tr th:only-of-type {\n",
       "        vertical-align: middle;\n",
       "    }\n",
       "\n",
       "    .dataframe tbody tr th {\n",
       "        vertical-align: top;\n",
       "    }\n",
       "\n",
       "    .dataframe thead th {\n",
       "        text-align: right;\n",
       "    }\n",
       "</style>\n",
       "<table border=\"1\" class=\"dataframe\">\n",
       "  <thead>\n",
       "    <tr style=\"text-align: right;\">\n",
       "      <th></th>\n",
       "      <th>0</th>\n",
       "      <th>1</th>\n",
       "      <th>2</th>\n",
       "      <th>3</th>\n",
       "      <th>4</th>\n",
       "      <th>5</th>\n",
       "      <th>6</th>\n",
       "      <th>7</th>\n",
       "      <th>8</th>\n",
       "      <th>9</th>\n",
       "      <th>...</th>\n",
       "      <th>90</th>\n",
       "      <th>91</th>\n",
       "      <th>92</th>\n",
       "      <th>93</th>\n",
       "      <th>94</th>\n",
       "      <th>95</th>\n",
       "      <th>96</th>\n",
       "      <th>97</th>\n",
       "      <th>98</th>\n",
       "      <th>99</th>\n",
       "    </tr>\n",
       "  </thead>\n",
       "  <tbody>\n",
       "    <tr>\n",
       "      <th>0</th>\n",
       "      <td>0</td>\n",
       "      <td>1</td>\n",
       "      <td>2</td>\n",
       "      <td>3</td>\n",
       "      <td>4</td>\n",
       "      <td>5</td>\n",
       "      <td>6</td>\n",
       "      <td>7</td>\n",
       "      <td>8</td>\n",
       "      <td>9</td>\n",
       "      <td>...</td>\n",
       "      <td>90</td>\n",
       "      <td>91</td>\n",
       "      <td>92</td>\n",
       "      <td>93</td>\n",
       "      <td>94</td>\n",
       "      <td>95</td>\n",
       "      <td>96</td>\n",
       "      <td>97</td>\n",
       "      <td>98</td>\n",
       "      <td>99</td>\n",
       "    </tr>\n",
       "    <tr>\n",
       "      <th>1</th>\n",
       "      <td>100</td>\n",
       "      <td>101</td>\n",
       "      <td>102</td>\n",
       "      <td>103</td>\n",
       "      <td>104</td>\n",
       "      <td>105</td>\n",
       "      <td>106</td>\n",
       "      <td>107</td>\n",
       "      <td>108</td>\n",
       "      <td>109</td>\n",
       "      <td>...</td>\n",
       "      <td>190</td>\n",
       "      <td>191</td>\n",
       "      <td>192</td>\n",
       "      <td>193</td>\n",
       "      <td>194</td>\n",
       "      <td>195</td>\n",
       "      <td>196</td>\n",
       "      <td>197</td>\n",
       "      <td>198</td>\n",
       "      <td>199</td>\n",
       "    </tr>\n",
       "    <tr>\n",
       "      <th>2</th>\n",
       "      <td>200</td>\n",
       "      <td>201</td>\n",
       "      <td>202</td>\n",
       "      <td>203</td>\n",
       "      <td>204</td>\n",
       "      <td>205</td>\n",
       "      <td>206</td>\n",
       "      <td>207</td>\n",
       "      <td>208</td>\n",
       "      <td>209</td>\n",
       "      <td>...</td>\n",
       "      <td>290</td>\n",
       "      <td>291</td>\n",
       "      <td>292</td>\n",
       "      <td>293</td>\n",
       "      <td>294</td>\n",
       "      <td>295</td>\n",
       "      <td>296</td>\n",
       "      <td>297</td>\n",
       "      <td>298</td>\n",
       "      <td>299</td>\n",
       "    </tr>\n",
       "    <tr>\n",
       "      <th>3</th>\n",
       "      <td>300</td>\n",
       "      <td>301</td>\n",
       "      <td>302</td>\n",
       "      <td>303</td>\n",
       "      <td>304</td>\n",
       "      <td>305</td>\n",
       "      <td>306</td>\n",
       "      <td>307</td>\n",
       "      <td>308</td>\n",
       "      <td>309</td>\n",
       "      <td>...</td>\n",
       "      <td>390</td>\n",
       "      <td>391</td>\n",
       "      <td>392</td>\n",
       "      <td>393</td>\n",
       "      <td>394</td>\n",
       "      <td>395</td>\n",
       "      <td>396</td>\n",
       "      <td>397</td>\n",
       "      <td>398</td>\n",
       "      <td>399</td>\n",
       "    </tr>\n",
       "    <tr>\n",
       "      <th>4</th>\n",
       "      <td>400</td>\n",
       "      <td>401</td>\n",
       "      <td>402</td>\n",
       "      <td>403</td>\n",
       "      <td>404</td>\n",
       "      <td>405</td>\n",
       "      <td>406</td>\n",
       "      <td>407</td>\n",
       "      <td>408</td>\n",
       "      <td>409</td>\n",
       "      <td>...</td>\n",
       "      <td>490</td>\n",
       "      <td>491</td>\n",
       "      <td>492</td>\n",
       "      <td>493</td>\n",
       "      <td>494</td>\n",
       "      <td>495</td>\n",
       "      <td>496</td>\n",
       "      <td>497</td>\n",
       "      <td>498</td>\n",
       "      <td>499</td>\n",
       "    </tr>\n",
       "    <tr>\n",
       "      <th>...</th>\n",
       "      <td>...</td>\n",
       "      <td>...</td>\n",
       "      <td>...</td>\n",
       "      <td>...</td>\n",
       "      <td>...</td>\n",
       "      <td>...</td>\n",
       "      <td>...</td>\n",
       "      <td>...</td>\n",
       "      <td>...</td>\n",
       "      <td>...</td>\n",
       "      <td>...</td>\n",
       "      <td>...</td>\n",
       "      <td>...</td>\n",
       "      <td>...</td>\n",
       "      <td>...</td>\n",
       "      <td>...</td>\n",
       "      <td>...</td>\n",
       "      <td>...</td>\n",
       "      <td>...</td>\n",
       "      <td>...</td>\n",
       "      <td>...</td>\n",
       "    </tr>\n",
       "    <tr>\n",
       "      <th>95</th>\n",
       "      <td>9500</td>\n",
       "      <td>9501</td>\n",
       "      <td>9502</td>\n",
       "      <td>9503</td>\n",
       "      <td>9504</td>\n",
       "      <td>9505</td>\n",
       "      <td>9506</td>\n",
       "      <td>9507</td>\n",
       "      <td>9508</td>\n",
       "      <td>9509</td>\n",
       "      <td>...</td>\n",
       "      <td>9590</td>\n",
       "      <td>9591</td>\n",
       "      <td>9592</td>\n",
       "      <td>9593</td>\n",
       "      <td>9594</td>\n",
       "      <td>9595</td>\n",
       "      <td>9596</td>\n",
       "      <td>9597</td>\n",
       "      <td>9598</td>\n",
       "      <td>9599</td>\n",
       "    </tr>\n",
       "    <tr>\n",
       "      <th>96</th>\n",
       "      <td>9600</td>\n",
       "      <td>9601</td>\n",
       "      <td>9602</td>\n",
       "      <td>9603</td>\n",
       "      <td>9604</td>\n",
       "      <td>9605</td>\n",
       "      <td>9606</td>\n",
       "      <td>9607</td>\n",
       "      <td>9608</td>\n",
       "      <td>9609</td>\n",
       "      <td>...</td>\n",
       "      <td>9690</td>\n",
       "      <td>9691</td>\n",
       "      <td>9692</td>\n",
       "      <td>9693</td>\n",
       "      <td>9694</td>\n",
       "      <td>9695</td>\n",
       "      <td>9696</td>\n",
       "      <td>9697</td>\n",
       "      <td>9698</td>\n",
       "      <td>9699</td>\n",
       "    </tr>\n",
       "    <tr>\n",
       "      <th>97</th>\n",
       "      <td>9700</td>\n",
       "      <td>9701</td>\n",
       "      <td>9702</td>\n",
       "      <td>9703</td>\n",
       "      <td>9704</td>\n",
       "      <td>9705</td>\n",
       "      <td>9706</td>\n",
       "      <td>9707</td>\n",
       "      <td>9708</td>\n",
       "      <td>9709</td>\n",
       "      <td>...</td>\n",
       "      <td>9790</td>\n",
       "      <td>9791</td>\n",
       "      <td>9792</td>\n",
       "      <td>9793</td>\n",
       "      <td>9794</td>\n",
       "      <td>9795</td>\n",
       "      <td>9796</td>\n",
       "      <td>9797</td>\n",
       "      <td>9798</td>\n",
       "      <td>9799</td>\n",
       "    </tr>\n",
       "    <tr>\n",
       "      <th>98</th>\n",
       "      <td>9800</td>\n",
       "      <td>9801</td>\n",
       "      <td>9802</td>\n",
       "      <td>9803</td>\n",
       "      <td>9804</td>\n",
       "      <td>9805</td>\n",
       "      <td>9806</td>\n",
       "      <td>9807</td>\n",
       "      <td>9808</td>\n",
       "      <td>9809</td>\n",
       "      <td>...</td>\n",
       "      <td>9890</td>\n",
       "      <td>9891</td>\n",
       "      <td>9892</td>\n",
       "      <td>9893</td>\n",
       "      <td>9894</td>\n",
       "      <td>9895</td>\n",
       "      <td>9896</td>\n",
       "      <td>9897</td>\n",
       "      <td>9898</td>\n",
       "      <td>9899</td>\n",
       "    </tr>\n",
       "    <tr>\n",
       "      <th>99</th>\n",
       "      <td>9900</td>\n",
       "      <td>9901</td>\n",
       "      <td>9902</td>\n",
       "      <td>9903</td>\n",
       "      <td>9904</td>\n",
       "      <td>9905</td>\n",
       "      <td>9906</td>\n",
       "      <td>9907</td>\n",
       "      <td>9908</td>\n",
       "      <td>9909</td>\n",
       "      <td>...</td>\n",
       "      <td>9990</td>\n",
       "      <td>9991</td>\n",
       "      <td>9992</td>\n",
       "      <td>9993</td>\n",
       "      <td>9994</td>\n",
       "      <td>9995</td>\n",
       "      <td>9996</td>\n",
       "      <td>9997</td>\n",
       "      <td>9998</td>\n",
       "      <td>9999</td>\n",
       "    </tr>\n",
       "  </tbody>\n",
       "</table>\n",
       "<p>100 rows × 100 columns</p>\n",
       "</div>"
      ],
      "text/plain": [
       "      0     1     2     3     4     5     6     7     8     9   ...    90  \\\n",
       "0      0     1     2     3     4     5     6     7     8     9  ...    90   \n",
       "1    100   101   102   103   104   105   106   107   108   109  ...   190   \n",
       "2    200   201   202   203   204   205   206   207   208   209  ...   290   \n",
       "3    300   301   302   303   304   305   306   307   308   309  ...   390   \n",
       "4    400   401   402   403   404   405   406   407   408   409  ...   490   \n",
       "..   ...   ...   ...   ...   ...   ...   ...   ...   ...   ...  ...   ...   \n",
       "95  9500  9501  9502  9503  9504  9505  9506  9507  9508  9509  ...  9590   \n",
       "96  9600  9601  9602  9603  9604  9605  9606  9607  9608  9609  ...  9690   \n",
       "97  9700  9701  9702  9703  9704  9705  9706  9707  9708  9709  ...  9790   \n",
       "98  9800  9801  9802  9803  9804  9805  9806  9807  9808  9809  ...  9890   \n",
       "99  9900  9901  9902  9903  9904  9905  9906  9907  9908  9909  ...  9990   \n",
       "\n",
       "      91    92    93    94    95    96    97    98    99  \n",
       "0     91    92    93    94    95    96    97    98    99  \n",
       "1    191   192   193   194   195   196   197   198   199  \n",
       "2    291   292   293   294   295   296   297   298   299  \n",
       "3    391   392   393   394   395   396   397   398   399  \n",
       "4    491   492   493   494   495   496   497   498   499  \n",
       "..   ...   ...   ...   ...   ...   ...   ...   ...   ...  \n",
       "95  9591  9592  9593  9594  9595  9596  9597  9598  9599  \n",
       "96  9691  9692  9693  9694  9695  9696  9697  9698  9699  \n",
       "97  9791  9792  9793  9794  9795  9796  9797  9798  9799  \n",
       "98  9891  9892  9893  9894  9895  9896  9897  9898  9899  \n",
       "99  9991  9992  9993  9994  9995  9996  9997  9998  9999  \n",
       "\n",
       "[100 rows x 100 columns]"
      ]
     },
     "execution_count": 15,
     "metadata": {},
     "output_type": "execute_result"
    }
   ],
   "source": [
    "df"
   ]
  },
  {
   "cell_type": "markdown",
   "metadata": {
    "id": "43QYxdBWevgT"
   },
   "source": [
    "## Carregando os dados"
   ]
  },
  {
   "cell_type": "markdown",
   "metadata": {
    "id": "votr38ZYevgT"
   },
   "source": [
    "### Arquivos JSON - `read_json`\n",
    "\n",
    "[Documentação](https://pandas.pydata.org/pandas-docs/stable/reference/api/pandas.read_json.html)\n",
    "\n",
    "## JSON\n",
    "\n",
    "JSON (**J**ava**S**cript **O**bject **N**otation - Notação de Objetos JavaScript) é uma formatação leve de troca de dados. Para seres humanos, é fácil de ler e escrever. Para máquinas, é fácil de interpretar e gerar. Está baseado em um subconjunto da linguagem de programação JavaScript, Standard ECMA-262 3a Edição - Dezembro - 1999. JSON é em formato texto e completamente independente de linguagem, pois usa convenções que são familiares às linguagens C e familiares, incluindo C++, C#, Java, JavaScript, Perl, Python e muitas outras. Estas propriedades fazem com que JSON seja um formato ideal de troca de dados.\n",
    "\n",
    "[fonte](https://www.json.org/json-pt.html)\n",
    "\n",
    "[Online JSON Viewer](http://jsonviewer.stack.hu/)"
   ]
  },
  {
   "cell_type": "code",
   "execution_count": null,
   "metadata": {
    "id": "mqhtwsPSevgU"
   },
   "outputs": [],
   "source": []
  },
  {
   "cell_type": "code",
   "execution_count": null,
   "metadata": {
    "id": "9QbVDt0LevgU"
   },
   "outputs": [],
   "source": []
  },
  {
   "cell_type": "code",
   "execution_count": null,
   "metadata": {
    "id": "FU7LgMbAevgU"
   },
   "outputs": [],
   "source": []
  },
  {
   "cell_type": "code",
   "execution_count": null,
   "metadata": {
    "id": "xqMteeCFevgU"
   },
   "outputs": [],
   "source": []
  },
  {
   "cell_type": "markdown",
   "metadata": {
    "id": "Q0coCxxrevgU"
   },
   "source": [
    "### Arquivos EXCEL - `read_excel`\n",
    "\n",
    "[Documentação](https://pandas.pydata.org/pandas-docs/stable/reference/api/pandas.read_excel.html)"
   ]
  },
  {
   "cell_type": "code",
   "execution_count": null,
   "metadata": {
    "id": "xoSV41cTevgV",
    "scrolled": true
   },
   "outputs": [],
   "source": []
  },
  {
   "cell_type": "markdown",
   "metadata": {
    "id": "A05bkoTPevgV"
   },
   "source": [
    "# TRANSFORMANDO E TRATANDO OS DADOS\n",
    "---"
   ]
  },
  {
   "cell_type": "markdown",
   "metadata": {
    "id": "Wy7HvxaZevgV"
   },
   "source": [
    "## Transformando dados no formato JSON para uma tabela"
   ]
  },
  {
   "cell_type": "code",
   "execution_count": null,
   "metadata": {
    "id": "g0533aVtevgV"
   },
   "outputs": [],
   "source": []
  },
  {
   "cell_type": "markdown",
   "metadata": {
    "id": "bLn7laG1evgV"
   },
   "source": [
    "### `json_normalize`\n",
    "\n",
    "[Documentação](https://pandas.pydata.org/pandas-docs/stable/reference/api/pandas.json_normalize.html)"
   ]
  },
  {
   "cell_type": "code",
   "execution_count": null,
   "metadata": {
    "id": "NqBTVXNKevgW"
   },
   "outputs": [],
   "source": []
  },
  {
   "cell_type": "code",
   "execution_count": null,
   "metadata": {
    "id": "Tq_44heHevgW"
   },
   "outputs": [],
   "source": []
  },
  {
   "cell_type": "code",
   "execution_count": null,
   "metadata": {
    "id": "NyQdnK6tevgW"
   },
   "outputs": [],
   "source": []
  },
  {
   "cell_type": "code",
   "execution_count": null,
   "metadata": {
    "id": "Sz6n0-4gevgW",
    "scrolled": true
   },
   "outputs": [],
   "source": []
  },
  {
   "cell_type": "code",
   "execution_count": null,
   "metadata": {
    "id": "nyYi0xgEevgW"
   },
   "outputs": [],
   "source": []
  },
  {
   "cell_type": "code",
   "execution_count": null,
   "metadata": {
    "id": "DJqqVu0YevgX"
   },
   "outputs": [],
   "source": []
  },
  {
   "cell_type": "code",
   "execution_count": null,
   "metadata": {
    "id": "x4ZlYa3vevgX",
    "scrolled": true
   },
   "outputs": [],
   "source": []
  },
  {
   "cell_type": "code",
   "execution_count": null,
   "metadata": {
    "id": "arGcoQHuevgX",
    "scrolled": true
   },
   "outputs": [],
   "source": []
  },
  {
   "cell_type": "markdown",
   "metadata": {
    "id": "cpaDGnecevgX"
   },
   "source": [
    "## Trabalhando com dados textuais"
   ]
  },
  {
   "cell_type": "markdown",
   "metadata": {
    "id": "CMgPdhFNevgX"
   },
   "source": [
    "### Transformando *strings* em listas do Python"
   ]
  },
  {
   "cell_type": "code",
   "execution_count": null,
   "metadata": {
    "id": "vJmnnHZ_evgY",
    "scrolled": true
   },
   "outputs": [],
   "source": []
  },
  {
   "cell_type": "code",
   "execution_count": null,
   "metadata": {
    "id": "karvMBcBifJf"
   },
   "outputs": [],
   "source": []
  },
  {
   "cell_type": "code",
   "execution_count": null,
   "metadata": {
    "id": "Cw5aR9T4ifJg"
   },
   "outputs": [],
   "source": []
  },
  {
   "cell_type": "markdown",
   "metadata": {
    "id": "cYPl0qylifJj"
   },
   "source": [
    "#### Métodos de *strings*\n",
    "\n",
    "[Documentação](https://docs.python.org/3.6/library/stdtypes.html#string-methods)"
   ]
  },
  {
   "cell_type": "code",
   "execution_count": null,
   "metadata": {
    "id": "IYEo2u_bifJl"
   },
   "outputs": [],
   "source": []
  },
  {
   "cell_type": "code",
   "execution_count": null,
   "metadata": {
    "id": "QEy7_TWJevgZ"
   },
   "outputs": [],
   "source": []
  },
  {
   "cell_type": "code",
   "execution_count": null,
   "metadata": {
    "id": "lFO8yF2QifJt"
   },
   "outputs": [],
   "source": []
  },
  {
   "cell_type": "code",
   "execution_count": null,
   "metadata": {
    "id": "-b5SugvuifJv"
   },
   "outputs": [],
   "source": []
  },
  {
   "cell_type": "code",
   "execution_count": null,
   "metadata": {
    "id": "OagOgk64ifJx"
   },
   "outputs": [],
   "source": []
  },
  {
   "cell_type": "code",
   "execution_count": null,
   "metadata": {
    "id": "Ek6sMqhsifJz"
   },
   "outputs": [],
   "source": []
  },
  {
   "cell_type": "code",
   "execution_count": null,
   "metadata": {
    "id": "oRWEteJKifJ1"
   },
   "outputs": [],
   "source": []
  },
  {
   "cell_type": "markdown",
   "metadata": {
    "id": "8Ak250BYevga"
   },
   "source": [
    "#### `str`\n",
    "\n",
    "[Documentação](https://pandas.pydata.org/pandas-docs/stable/reference/api/pandas.Series.str.html)"
   ]
  },
  {
   "cell_type": "code",
   "execution_count": null,
   "metadata": {
    "id": "6vv8s40ievga"
   },
   "outputs": [],
   "source": []
  },
  {
   "cell_type": "code",
   "execution_count": null,
   "metadata": {
    "id": "GKIZLU9_ifJ3"
   },
   "outputs": [],
   "source": []
  },
  {
   "cell_type": "code",
   "execution_count": null,
   "metadata": {
    "id": "j5ZntTzAifJ5"
   },
   "outputs": [],
   "source": []
  },
  {
   "cell_type": "code",
   "execution_count": null,
   "metadata": {
    "id": "TJpsQdSPifJ9"
   },
   "outputs": [],
   "source": []
  },
  {
   "cell_type": "code",
   "execution_count": null,
   "metadata": {
    "id": "-diMtJl7ifKA"
   },
   "outputs": [],
   "source": []
  },
  {
   "cell_type": "code",
   "execution_count": null,
   "metadata": {
    "id": "yM8GML9yifKC"
   },
   "outputs": [],
   "source": []
  },
  {
   "cell_type": "code",
   "execution_count": null,
   "metadata": {
    "id": "-yHC8F6fifKF"
   },
   "outputs": [],
   "source": []
  },
  {
   "cell_type": "code",
   "execution_count": null,
   "metadata": {
    "id": "TOZJO0GRifKG"
   },
   "outputs": [],
   "source": []
  },
  {
   "cell_type": "markdown",
   "metadata": {
    "id": "udrVGc3_evgb"
   },
   "source": [
    "#### `filter`\n",
    "\n",
    "[Documentação](https://pandas.pydata.org/pandas-docs/stable/reference/api/pandas.DataFrame.filter.html)"
   ]
  },
  {
   "cell_type": "code",
   "execution_count": null,
   "metadata": {
    "id": "7uNZ9jOCevgc"
   },
   "outputs": [],
   "source": []
  },
  {
   "cell_type": "code",
   "execution_count": null,
   "metadata": {
    "id": "S1vRA6-pifKN",
    "scrolled": true
   },
   "outputs": [],
   "source": []
  },
  {
   "cell_type": "markdown",
   "metadata": {
    "id": "1NRyywesevgc"
   },
   "source": [
    "# COMBINANDO CONJUNTOS DE DADOS\n",
    "---"
   ]
  },
  {
   "cell_type": "code",
   "execution_count": null,
   "metadata": {
    "id": "fVukYp7wevgc"
   },
   "outputs": [],
   "source": []
  },
  {
   "cell_type": "code",
   "execution_count": null,
   "metadata": {
    "id": "ssxgfqonevgc"
   },
   "outputs": [],
   "source": []
  },
  {
   "cell_type": "markdown",
   "metadata": {
    "id": "rZgiUKLdevgc"
   },
   "source": [
    "## Empilhando *DataFrames*"
   ]
  },
  {
   "cell_type": "markdown",
   "metadata": {
    "id": "-h32tlhVevgd"
   },
   "source": [
    "### `append`\n",
    "\n",
    "[Documentação](https://pandas.pydata.org/pandas-docs/stable/reference/api/pandas.DataFrame.append.html)"
   ]
  },
  {
   "cell_type": "code",
   "execution_count": null,
   "metadata": {
    "id": "LHCKRDJ_evgd",
    "scrolled": true
   },
   "outputs": [],
   "source": []
  },
  {
   "cell_type": "code",
   "execution_count": null,
   "metadata": {
    "id": "tF1g0sR2evgd",
    "scrolled": true
   },
   "outputs": [],
   "source": []
  },
  {
   "cell_type": "code",
   "execution_count": null,
   "metadata": {
    "id": "bbBmb6dRevgd"
   },
   "outputs": [],
   "source": []
  },
  {
   "cell_type": "code",
   "execution_count": null,
   "metadata": {
    "id": "i9p8pJONevgd",
    "scrolled": true
   },
   "outputs": [],
   "source": []
  },
  {
   "cell_type": "markdown",
   "metadata": {
    "id": "r2--u5uMevgd"
   },
   "source": [
    "### `concat`\n",
    "\n",
    "[Documentação](https://pandas.pydata.org/pandas-docs/stable/reference/api/pandas.concat.html)"
   ]
  },
  {
   "cell_type": "code",
   "execution_count": null,
   "metadata": {
    "id": "Slce5RQdevge"
   },
   "outputs": [],
   "source": []
  },
  {
   "cell_type": "code",
   "execution_count": null,
   "metadata": {
    "id": "44uiNz8Oevge"
   },
   "outputs": [],
   "source": []
  },
  {
   "cell_type": "markdown",
   "metadata": {
    "id": "GJbtme1Gevge"
   },
   "source": [
    "## Combinando *DataFrames* a partir de uma chave de ligação"
   ]
  },
  {
   "cell_type": "code",
   "execution_count": null,
   "metadata": {
    "id": "-wKGhtQ0evge"
   },
   "outputs": [],
   "source": []
  },
  {
   "cell_type": "code",
   "execution_count": null,
   "metadata": {
    "id": "JphM_Y6Vevge"
   },
   "outputs": [],
   "source": []
  },
  {
   "cell_type": "markdown",
   "metadata": {
    "id": "iWSZcYnuevgf"
   },
   "source": [
    "### Tratando a variável de ligação"
   ]
  },
  {
   "cell_type": "markdown",
   "metadata": {
    "id": "EnAauv0Qevgf"
   },
   "source": [
    "#### Selecionando a variável de ligação nos dois *DataFrames*"
   ]
  },
  {
   "cell_type": "code",
   "execution_count": null,
   "metadata": {
    "id": "9ZROypsOevgf"
   },
   "outputs": [],
   "source": []
  },
  {
   "cell_type": "markdown",
   "metadata": {
    "id": "l38MglWkevgf"
   },
   "source": [
    "[Documentação: `get_level_values`](https://pandas.pydata.org/pandas-docs/stable/reference/api/pandas.MultiIndex.get_level_values.html)"
   ]
  },
  {
   "cell_type": "code",
   "execution_count": null,
   "metadata": {
    "id": "PqOX0cVRevgf"
   },
   "outputs": [],
   "source": []
  },
  {
   "cell_type": "markdown",
   "metadata": {
    "id": "mQQGRwbVevgg"
   },
   "source": [
    "#### Identificando e eliminando valores duplicados - `nunique` e `unique`\n",
    "\n",
    "[Documentação: `nunique`](https://pandas.pydata.org/pandas-docs/stable/reference/api/pandas.Series.nunique.html)\n",
    "\n",
    "[Documentação: `unique`](https://pandas.pydata.org/pandas-docs/stable/reference/api/pandas.Series.unique.html)"
   ]
  },
  {
   "cell_type": "code",
   "execution_count": null,
   "metadata": {
    "id": "oQ7JrM4oevgg"
   },
   "outputs": [],
   "source": []
  },
  {
   "cell_type": "code",
   "execution_count": null,
   "metadata": {
    "id": "3EseTUMGevgg"
   },
   "outputs": [],
   "source": []
  },
  {
   "cell_type": "code",
   "execution_count": null,
   "metadata": {
    "id": "wTzTjSG4evgg"
   },
   "outputs": [],
   "source": []
  },
  {
   "cell_type": "code",
   "execution_count": null,
   "metadata": {
    "id": "phexF7SWevgg"
   },
   "outputs": [],
   "source": []
  },
  {
   "cell_type": "code",
   "execution_count": null,
   "metadata": {
    "id": "P8IO0v72evgh",
    "scrolled": true
   },
   "outputs": [],
   "source": []
  },
  {
   "cell_type": "markdown",
   "metadata": {
    "id": "SzEMZcrBevgh"
   },
   "source": [
    "---"
   ]
  },
  {
   "cell_type": "code",
   "execution_count": null,
   "metadata": {
    "id": "QDoTILAcevgh"
   },
   "outputs": [],
   "source": []
  },
  {
   "cell_type": "code",
   "execution_count": null,
   "metadata": {
    "id": "P8VPy0fmevgh"
   },
   "outputs": [],
   "source": []
  },
  {
   "cell_type": "code",
   "execution_count": null,
   "metadata": {
    "id": "d2r54C34evgi",
    "scrolled": true
   },
   "outputs": [],
   "source": []
  },
  {
   "cell_type": "markdown",
   "metadata": {
    "id": "ivrVtUQlevgi"
   },
   "source": [
    "#### Verificando se existe correspondência entre as variáveis de ligação\n",
    "\n",
    "[Documentação](https://pandas.pydata.org/pandas-docs/stable/reference/api/pandas.Series.isin.html)"
   ]
  },
  {
   "cell_type": "code",
   "execution_count": null,
   "metadata": {
    "id": "RCPjMO2levgi",
    "scrolled": false
   },
   "outputs": [],
   "source": []
  },
  {
   "cell_type": "code",
   "execution_count": null,
   "metadata": {
    "id": "IFWWnS4Kevgi",
    "scrolled": true
   },
   "outputs": [],
   "source": []
  },
  {
   "cell_type": "code",
   "execution_count": null,
   "metadata": {
    "id": "uiacZ9lnevgi"
   },
   "outputs": [],
   "source": []
  },
  {
   "cell_type": "code",
   "execution_count": null,
   "metadata": {
    "id": "HSpGW6vdevgj"
   },
   "outputs": [],
   "source": []
  },
  {
   "cell_type": "markdown",
   "metadata": {
    "id": "poxpGTtuevgj"
   },
   "source": [
    "#### Ajustando os valores\n",
    "\n",
    "[Documentação](https://pandas.pydata.org/pandas-docs/stable/reference/api/pandas.Series.replace.html)"
   ]
  },
  {
   "cell_type": "code",
   "execution_count": null,
   "metadata": {
    "id": "XTDo7AvYevgk"
   },
   "outputs": [],
   "source": []
  },
  {
   "cell_type": "code",
   "execution_count": null,
   "metadata": {
    "id": "NAqMX05Yevgk",
    "scrolled": true
   },
   "outputs": [],
   "source": []
  },
  {
   "cell_type": "code",
   "execution_count": null,
   "metadata": {
    "id": "iGudgRQ6evgk",
    "scrolled": false
   },
   "outputs": [],
   "source": []
  },
  {
   "cell_type": "markdown",
   "metadata": {
    "id": "3btbFOGeevgl"
   },
   "source": [
    "### Combinando os *DataFrames*"
   ]
  },
  {
   "cell_type": "markdown",
   "metadata": {
    "id": "CBTdNyc1evgl"
   },
   "source": [
    "#### `merge`\n",
    "\n",
    "[Documentação](https://pandas.pydata.org/pandas-docs/stable/reference/api/pandas.merge.html)\n",
    "\n",
    "```\n",
    "pandas.merge(left, right, how='inner', on=None, left_on=None, right_on=None, left_index=False, right_index=False, sort=False, suffixes='_x', '_y', copy=True, indicator=False, validate=None)\n",
    "```\n",
    "\n",
    "**Parameters**\n",
    "\n",
    "- **left**: DataFrame\n",
    "\n",
    "\n",
    "- **right**: DataFrame\n",
    "    \n",
    "\n",
    "- **how**: {‘left’, ‘right’, ‘outer’, ‘inner’}, *default* ‘inner’\n",
    "\n",
    "        Tipo de junção que será realizada.\n",
    "\n",
    "        - left: usa apenas as chaves do DataFrame especificado no parâmetro left.\n",
    "\n",
    "        - right: usa apenas as chaves do DataFrame especificado no parâmetro right.\n",
    "\n",
    "        - outer: considera todos os registros dos DataFrames especificados nos parâmetros left e right, isto é, faz a união das chaves.\n",
    "\n",
    "        - inner: considera apenas a interseção das chaves dos DataFrames especificados nos parâmetros left e right.\n",
    "    \n",
    "\n",
    "- **on**: label ou list\n",
    "\n",
    "        Nomes das colunas ou dos índices que serão utilizados na junção. Estes devem ser encontrados em ambos os DataFrames.\n",
    "        \n",
    "\n",
    "- **left_on**: label ou list, or array-like\n",
    "\n",
    "        Nomes das colunas ou dos índices do DataFrame especificado em left que serão utilizados na junção.\n",
    "        \n",
    "\n",
    "- **right_on**: label or list, or array-like\n",
    "\n",
    "        Nomes das colunas ou dos índices do DataFrame especificado em right que serão utilizados na junção.\n",
    "    \n",
    "\n",
    "- **left_index**: bool, *default False*\n",
    "\n",
    "        Indica se o índice do DataFrame especificado no parâmetro left deve ser utilizado como chave de junção.\n",
    "        \n",
    "\n",
    "- **right_index**: bool, *default False*\n",
    "\n",
    "        Indica se o índice do DataFrame especificado no parâmetro right deve ser utilizado como chave de junção."
   ]
  },
  {
   "cell_type": "code",
   "execution_count": null,
   "metadata": {
    "id": "wo8ttXKcevgn",
    "scrolled": true
   },
   "outputs": [],
   "source": []
  },
  {
   "cell_type": "markdown",
   "metadata": {
    "id": "ymrhrLaYevgn"
   },
   "source": [
    "# ADICIONANDO INFORMAÇÕES\n",
    "---"
   ]
  },
  {
   "cell_type": "markdown",
   "metadata": {
    "id": "4aqxo4l-evgn"
   },
   "source": [
    "## Criando as colunas `quartos`, `suites` e `banheiros`"
   ]
  },
  {
   "cell_type": "code",
   "execution_count": null,
   "metadata": {
    "id": "giBGU4gOevgs"
   },
   "outputs": [],
   "source": []
  },
  {
   "cell_type": "markdown",
   "metadata": {
    "id": "nya9Yy7Kevgs"
   },
   "source": [
    "### `str.extractall`\n",
    "\n",
    "[Documentação](https://pandas.pydata.org/pandas-docs/stable/reference/api/pandas.Series.str.extractall.html)"
   ]
  },
  {
   "cell_type": "code",
   "execution_count": null,
   "metadata": {
    "id": "Toi4yfM-evgs",
    "scrolled": true
   },
   "outputs": [],
   "source": []
  },
  {
   "cell_type": "markdown",
   "metadata": {
    "id": "p2bibVe9evgs"
   },
   "source": [
    "### `unstack`\n",
    "\n",
    "[Documentação](https://pandas.pydata.org/pandas-docs/stable/reference/api/pandas.DataFrame.unstack.html)"
   ]
  },
  {
   "cell_type": "code",
   "execution_count": null,
   "metadata": {
    "id": "QXWYy2h8evgt"
   },
   "outputs": [],
   "source": []
  },
  {
   "cell_type": "code",
   "execution_count": null,
   "metadata": {
    "id": "FktwCtLTevgt"
   },
   "outputs": [],
   "source": []
  },
  {
   "cell_type": "markdown",
   "metadata": {
    "id": "-jVhoVI-evgt"
   },
   "source": [
    "### `droplevel`\n",
    "\n",
    "[Documentação](https://pandas.pydata.org/pandas-docs/stable/reference/api/pandas.DataFrame.droplevel.html)"
   ]
  },
  {
   "cell_type": "code",
   "execution_count": null,
   "metadata": {
    "id": "TSojRmn9evgt"
   },
   "outputs": [],
   "source": []
  },
  {
   "cell_type": "code",
   "execution_count": null,
   "metadata": {
    "id": "ac4wLkEGevgt",
    "scrolled": true
   },
   "outputs": [],
   "source": []
  },
  {
   "cell_type": "markdown",
   "metadata": {
    "id": "m2CS8xkuevgu"
   },
   "source": [
    "## Criando novas classificações"
   ]
  },
  {
   "cell_type": "markdown",
   "metadata": {
    "id": "bJqulTItevgu"
   },
   "source": [
    "### Com dados categóricos - `map`\n",
    "\n",
    "[Documentação](https://pandas.pydata.org/pandas-docs/stable/reference/api/pandas.Series.map.html)"
   ]
  },
  {
   "cell_type": "code",
   "execution_count": null,
   "metadata": {
    "id": "_l0qDgFzevgu"
   },
   "outputs": [],
   "source": [
    "tipo_uso = {\n",
    "    'Apartamento': 'Residencial',\n",
    "    'Casa': 'Residencial',\n",
    "    'Cobertura': 'Residencial',\n",
    "    'Consultório': 'Comercial',\n",
    "    'Imóvel Comercial': 'Comercial',\n",
    "    'Loja': 'Comercial',\n",
    "    'Sala Comercial': 'Comercial'\n",
    "}"
   ]
  },
  {
   "cell_type": "code",
   "execution_count": null,
   "metadata": {
    "id": "DwyFjomsevgu",
    "scrolled": true
   },
   "outputs": [],
   "source": []
  },
  {
   "cell_type": "code",
   "execution_count": null,
   "metadata": {
    "id": "X3B_8DLvevgv"
   },
   "outputs": [],
   "source": []
  },
  {
   "cell_type": "markdown",
   "metadata": {
    "id": "995hOzHhevgv"
   },
   "source": [
    "#### `insert`\n",
    "\n",
    "[Documentação](https://pandas.pydata.org/pandas-docs/stable/reference/api/pandas.DataFrame.insert.html)"
   ]
  },
  {
   "cell_type": "code",
   "execution_count": null,
   "metadata": {
    "id": "tuPwv1JTevgv"
   },
   "outputs": [],
   "source": []
  },
  {
   "cell_type": "code",
   "execution_count": null,
   "metadata": {
    "id": "IMSZeeIhevgw",
    "scrolled": true
   },
   "outputs": [],
   "source": []
  },
  {
   "cell_type": "markdown",
   "metadata": {
    "id": "1CRwFHsfevgw"
   },
   "source": [
    "### Com dados numéricos - `cut`\n",
    "\n",
    "[Documentação](https://pandas.pydata.org/pandas-docs/stable/reference/api/pandas.cut.html)"
   ]
  },
  {
   "cell_type": "markdown",
   "metadata": {
    "id": "2g4jSmX1evgw"
   },
   "source": [
    "#### Utilizando classes fixas"
   ]
  },
  {
   "cell_type": "code",
   "execution_count": null,
   "metadata": {
    "id": "0KTpjlnhevgx"
   },
   "outputs": [],
   "source": []
  },
  {
   "cell_type": "code",
   "execution_count": null,
   "metadata": {
    "id": "zapsO_NJAoj7"
   },
   "outputs": [],
   "source": []
  },
  {
   "cell_type": "code",
   "execution_count": null,
   "metadata": {
    "id": "ztdhjZ2mevgx"
   },
   "outputs": [],
   "source": []
  },
  {
   "cell_type": "code",
   "execution_count": null,
   "metadata": {
    "id": "je6VWPuYevgx",
    "scrolled": true
   },
   "outputs": [],
   "source": []
  },
  {
   "cell_type": "code",
   "execution_count": null,
   "metadata": {
    "id": "vY7d-5z5ceWO",
    "scrolled": true
   },
   "outputs": [],
   "source": []
  },
  {
   "cell_type": "code",
   "execution_count": null,
   "metadata": {
    "id": "q1ENkBM0evgy"
   },
   "outputs": [],
   "source": []
  },
  {
   "cell_type": "markdown",
   "metadata": {
    "id": "hGo5UyTsevgy"
   },
   "source": [
    "#### Utilizando classes personalizadas"
   ]
  },
  {
   "cell_type": "code",
   "execution_count": null,
   "metadata": {
    "id": "XzoW4Hasb8q7"
   },
   "outputs": [],
   "source": []
  },
  {
   "cell_type": "code",
   "execution_count": null,
   "metadata": {
    "id": "I65cC8pkevgz",
    "scrolled": true
   },
   "outputs": [],
   "source": []
  },
  {
   "cell_type": "code",
   "execution_count": null,
   "metadata": {
    "id": "mfZ0S5b0evgz",
    "scrolled": true
   },
   "outputs": [],
   "source": []
  },
  {
   "cell_type": "code",
   "execution_count": null,
   "metadata": {
    "id": "iHDPvSAPevgz"
   },
   "outputs": [],
   "source": []
  },
  {
   "cell_type": "markdown",
   "metadata": {
    "id": "zWGPxzcuevg0"
   },
   "source": [
    "## Novas colunas derivadas das informações existentes"
   ]
  },
  {
   "cell_type": "markdown",
   "metadata": {
    "id": "LLxPnrTHevg0"
   },
   "source": [
    "### Valor por m²"
   ]
  },
  {
   "cell_type": "code",
   "execution_count": null,
   "metadata": {
    "id": "ucf8dkBzevg0",
    "scrolled": true
   },
   "outputs": [],
   "source": []
  },
  {
   "cell_type": "code",
   "execution_count": null,
   "metadata": {
    "id": "RAPOfBHgevg0"
   },
   "outputs": [],
   "source": []
  },
  {
   "cell_type": "markdown",
   "metadata": {
    "id": "JxaCGr1Devg1"
   },
   "source": [
    "#### `apply`\n",
    "\n",
    "[Documentação](https://pandas.pydata.org/pandas-docs/stable/reference/api/pandas.DataFrame.apply.html)"
   ]
  },
  {
   "cell_type": "code",
   "execution_count": null,
   "metadata": {
    "id": "yNmvRWLievg1"
   },
   "outputs": [],
   "source": []
  },
  {
   "cell_type": "code",
   "execution_count": null,
   "metadata": {
    "id": "Xeqd609_evg1"
   },
   "outputs": [],
   "source": []
  },
  {
   "cell_type": "code",
   "execution_count": null,
   "metadata": {
    "id": "ZEvfUpFoevg2"
   },
   "outputs": [],
   "source": []
  },
  {
   "cell_type": "markdown",
   "metadata": {
    "id": "1Pcx255bevg2"
   },
   "source": [
    "### Piscina?"
   ]
  },
  {
   "cell_type": "code",
   "execution_count": null,
   "metadata": {
    "id": "U6z63nqXevg2"
   },
   "outputs": [],
   "source": []
  },
  {
   "cell_type": "markdown",
   "metadata": {
    "id": "KNSWnriMevg2"
   },
   "source": [
    "# TABULAÇÕES E SUMARIZAÇÕES\n",
    "---"
   ]
  },
  {
   "cell_type": "markdown",
   "metadata": {
    "id": "eiFZz3Gcevg2"
   },
   "source": [
    "## Agrupamentos"
   ]
  },
  {
   "cell_type": "code",
   "execution_count": null,
   "metadata": {
    "id": "GepN60rgevg2"
   },
   "outputs": [],
   "source": []
  },
  {
   "cell_type": "markdown",
   "metadata": {
    "id": "4VGAbY3Sevg3"
   },
   "source": [
    "### `aggregate`\n",
    "\n",
    "[Documentação](https://pandas.pydata.org/pandas-docs/stable/reference/api/pandas.DataFrame.aggregate.html)"
   ]
  },
  {
   "cell_type": "code",
   "execution_count": null,
   "metadata": {
    "id": "CJopCPinevg3"
   },
   "outputs": [],
   "source": []
  },
  {
   "cell_type": "code",
   "execution_count": null,
   "metadata": {
    "id": "fiQc4618evg3"
   },
   "outputs": [],
   "source": []
  },
  {
   "cell_type": "markdown",
   "metadata": {
    "id": "Y_T5j1Dkevg3"
   },
   "source": [
    "### `groupby`\n",
    "\n",
    "[Documentação](https://pandas.pydata.org/pandas-docs/stable/reference/api/pandas.DataFrame.groupby.html)"
   ]
  },
  {
   "cell_type": "code",
   "execution_count": null,
   "metadata": {
    "id": "Zu9QU8XYevg3"
   },
   "outputs": [],
   "source": []
  },
  {
   "cell_type": "code",
   "execution_count": null,
   "metadata": {
    "id": "UVdqyITfevg4"
   },
   "outputs": [],
   "source": []
  },
  {
   "cell_type": "code",
   "execution_count": null,
   "metadata": {
    "id": "QNe-9qufevg4"
   },
   "outputs": [],
   "source": []
  },
  {
   "cell_type": "code",
   "execution_count": null,
   "metadata": {
    "id": "2mF_L8cAevg4"
   },
   "outputs": [],
   "source": []
  },
  {
   "cell_type": "code",
   "execution_count": null,
   "metadata": {
    "id": "cafTo2wUevg4"
   },
   "outputs": [],
   "source": []
  },
  {
   "cell_type": "code",
   "execution_count": null,
   "metadata": {
    "id": "zVu7oxvYevg5"
   },
   "outputs": [],
   "source": []
  },
  {
   "cell_type": "markdown",
   "metadata": {
    "id": "AUBj_APUevg5"
   },
   "source": [
    "### `value_counts`\n",
    "\n",
    "[Documentação](https://pandas.pydata.org/pandas-docs/stable/reference/api/pandas.DataFrame.value_counts.html)"
   ]
  },
  {
   "cell_type": "code",
   "execution_count": null,
   "metadata": {
    "id": "EF2L8WmHevg5"
   },
   "outputs": [],
   "source": []
  },
  {
   "cell_type": "code",
   "execution_count": null,
   "metadata": {
    "id": "IOZ1Fb0Tevg5"
   },
   "outputs": [],
   "source": []
  },
  {
   "cell_type": "code",
   "execution_count": null,
   "metadata": {
    "id": "irStjJUvevg5"
   },
   "outputs": [],
   "source": []
  },
  {
   "cell_type": "markdown",
   "metadata": {
    "id": "KJtrt3l5evg6"
   },
   "source": [
    "#### `to_frame`\n",
    "\n",
    "[Documentação](https://pandas.pydata.org/pandas-docs/stable/reference/api/pandas.Series.to_frame.html)"
   ]
  },
  {
   "cell_type": "code",
   "execution_count": null,
   "metadata": {
    "id": "86UZBXs9evg6"
   },
   "outputs": [],
   "source": []
  },
  {
   "cell_type": "markdown",
   "metadata": {
    "id": "zfIcPdHpevg6"
   },
   "source": [
    "## Mudando o formato de um *DataFrame*"
   ]
  },
  {
   "cell_type": "markdown",
   "metadata": {
    "id": "FMI3APPqevg6"
   },
   "source": [
    "### `unstack`\n",
    "\n",
    "Faz a rotação ou o pivoteamento das linhas para as colunas.\n",
    "\n",
    "[Documentação](https://pandas.pydata.org/pandas-docs/stable/reference/api/pandas.DataFrame.unstack.html)"
   ]
  },
  {
   "cell_type": "code",
   "execution_count": null,
   "metadata": {
    "id": "ihUiFlUoevg6"
   },
   "outputs": [],
   "source": []
  },
  {
   "cell_type": "code",
   "execution_count": null,
   "metadata": {
    "id": "QJ4pCdlnevg6"
   },
   "outputs": [],
   "source": []
  },
  {
   "cell_type": "code",
   "execution_count": null,
   "metadata": {
    "id": "v_n21a8cevg7"
   },
   "outputs": [],
   "source": []
  },
  {
   "cell_type": "markdown",
   "metadata": {
    "id": "se1knkwkevg7"
   },
   "source": [
    "### `stack`\n",
    "\n",
    "Faz a rotação ou o pivoteamento das colunas de um *DataFrame* para as linhas.\n",
    "\n",
    "[Documentação](https://pandas.pydata.org/pandas-docs/stable/reference/api/pandas.DataFrame.stack.html)"
   ]
  },
  {
   "cell_type": "code",
   "execution_count": null,
   "metadata": {
    "id": "xJRpaXH_evg7"
   },
   "outputs": [],
   "source": []
  },
  {
   "cell_type": "code",
   "execution_count": null,
   "metadata": {
    "id": "QkWRUW1Hevg7"
   },
   "outputs": [],
   "source": []
  },
  {
   "cell_type": "code",
   "execution_count": null,
   "metadata": {
    "id": "dGE9_h4Eevg7",
    "scrolled": true
   },
   "outputs": [],
   "source": []
  },
  {
   "cell_type": "code",
   "execution_count": null,
   "metadata": {
    "id": "SYBirwOQevg7",
    "scrolled": true
   },
   "outputs": [],
   "source": []
  },
  {
   "cell_type": "markdown",
   "metadata": {
    "id": "721L30DGevg8"
   },
   "source": [
    "## Criando tabelas dinâmicas"
   ]
  },
  {
   "cell_type": "markdown",
   "metadata": {
    "id": "MT9R7ULTevg8"
   },
   "source": [
    "### `pivot`\n",
    "\n",
    "[Documentação](https://pandas.pydata.org/pandas-docs/stable/reference/api/pandas.DataFrame.pivot.html)"
   ]
  },
  {
   "cell_type": "code",
   "execution_count": null,
   "metadata": {
    "id": "TxCjxASHevg8"
   },
   "outputs": [],
   "source": []
  },
  {
   "cell_type": "markdown",
   "metadata": {
    "id": "KK2lRVTZevg8"
   },
   "source": [
    "#### `droplevel`\n",
    "\n",
    "[Documentação](https://pandas.pydata.org/pandas-docs/stable/reference/api/pandas.DataFrame.droplevel.html)"
   ]
  },
  {
   "cell_type": "code",
   "execution_count": null,
   "metadata": {
    "id": "WM8eGmWyevg9"
   },
   "outputs": [],
   "source": []
  },
  {
   "cell_type": "markdown",
   "metadata": {
    "id": "JV0cPfjjevg9"
   },
   "source": [
    "#### `reset_index`\n",
    "\n",
    "[Documentação](https://pandas.pydata.org/pandas-docs/stable/reference/api/pandas.DataFrame.reset_index.html)"
   ]
  },
  {
   "cell_type": "code",
   "execution_count": null,
   "metadata": {
    "id": "_2zbYlDUevg9",
    "scrolled": true
   },
   "outputs": [],
   "source": []
  },
  {
   "cell_type": "code",
   "execution_count": null,
   "metadata": {
    "id": "Tr3lQ7_Pevg9"
   },
   "outputs": [],
   "source": []
  },
  {
   "cell_type": "markdown",
   "metadata": {
    "id": "si3S5yVIevg9"
   },
   "source": [
    "### `pivot_table`\n",
    "\n",
    "[Documentação](https://pandas.pydata.org/pandas-docs/stable/reference/api/pandas.DataFrame.pivot_table.html)"
   ]
  },
  {
   "cell_type": "code",
   "execution_count": null,
   "metadata": {
    "id": "Cc8GufF3evg-"
   },
   "outputs": [],
   "source": []
  },
  {
   "cell_type": "code",
   "execution_count": null,
   "metadata": {
    "id": "VxFFo13gevg-"
   },
   "outputs": [],
   "source": []
  },
  {
   "cell_type": "code",
   "execution_count": null,
   "metadata": {
    "id": "5AzhTNwaevg-"
   },
   "outputs": [],
   "source": []
  },
  {
   "cell_type": "markdown",
   "metadata": {
    "id": "z3WPXV_1evg-"
   },
   "source": [
    "# TABULAÇÕES E ESTILIZAÇÃO\n",
    "---"
   ]
  },
  {
   "cell_type": "markdown",
   "metadata": {
    "id": "hEMpF1yYevg-"
   },
   "source": [
    "## Tabulações a partir de informações no formato de listas"
   ]
  },
  {
   "cell_type": "markdown",
   "metadata": {
    "id": "ZFqI6k6_evg-"
   },
   "source": [
    "### `explode`\n",
    "\n",
    "[Documentação](https://pandas.pydata.org/pandas-docs/stable/reference/api/pandas.DataFrame.explode.html)"
   ]
  },
  {
   "cell_type": "code",
   "execution_count": null,
   "metadata": {
    "id": "JFZCZ7Yuevg_",
    "scrolled": true
   },
   "outputs": [],
   "source": []
  },
  {
   "cell_type": "code",
   "execution_count": null,
   "metadata": {
    "id": "VhIcLAXzevg_"
   },
   "outputs": [],
   "source": []
  },
  {
   "cell_type": "code",
   "execution_count": null,
   "metadata": {
    "id": "q8dhRb3sevg_",
    "scrolled": false
   },
   "outputs": [],
   "source": []
  },
  {
   "cell_type": "markdown",
   "metadata": {
    "id": "f8aTRZ-Mevg_"
   },
   "source": [
    "#### `where`\n",
    "\n",
    "[Documentação](https://pandas.pydata.org/pandas-docs/stable/reference/api/pandas.Series.where.html)"
   ]
  },
  {
   "cell_type": "code",
   "execution_count": null,
   "metadata": {
    "id": "eVqYjcWievg_"
   },
   "outputs": [],
   "source": []
  },
  {
   "cell_type": "code",
   "execution_count": null,
   "metadata": {
    "id": "IRMPSZhvevhA"
   },
   "outputs": [],
   "source": []
  },
  {
   "cell_type": "markdown",
   "metadata": {
    "id": "Hqsk2TCqevhA"
   },
   "source": [
    "## Estilizando um DataFrame"
   ]
  },
  {
   "cell_type": "markdown",
   "metadata": {
    "id": "D9fI8e5TevhA"
   },
   "source": [
    "### `style`\n",
    "\n",
    "[Documentação](https://pandas.pydata.org/pandas-docs/stable/reference/api/pandas.DataFrame.style.html)"
   ]
  },
  {
   "cell_type": "code",
   "execution_count": null,
   "metadata": {
    "id": "6RSwWnIhevhA"
   },
   "outputs": [],
   "source": []
  },
  {
   "cell_type": "code",
   "execution_count": null,
   "metadata": {
    "id": "0m_-TJTuevhA"
   },
   "outputs": [],
   "source": []
  },
  {
   "cell_type": "code",
   "execution_count": null,
   "metadata": {
    "id": "1KnL7z-CevhA"
   },
   "outputs": [],
   "source": []
  },
  {
   "cell_type": "markdown",
   "metadata": {
    "id": "yvFSL0PAevhB"
   },
   "source": [
    "#### `format`\n",
    "\n",
    "[Documentação](https://pandas.pydata.org/pandas-docs/stable/reference/api/pandas.io.formats.style.Styler.format.html)"
   ]
  },
  {
   "cell_type": "code",
   "execution_count": null,
   "metadata": {
    "id": "r_0DbWypevhB"
   },
   "outputs": [],
   "source": []
  },
  {
   "cell_type": "markdown",
   "metadata": {
    "id": "ncaZ5etWevhB"
   },
   "source": [
    "#### `bar`\n",
    "\n",
    "[Documentação](https://pandas.pydata.org/pandas-docs/stable/reference/api/pandas.io.formats.style.Styler.bar.html)"
   ]
  },
  {
   "cell_type": "code",
   "execution_count": null,
   "metadata": {
    "id": "0DYposenevhB"
   },
   "outputs": [],
   "source": []
  },
  {
   "cell_type": "markdown",
   "metadata": {
    "id": "q9EV6PsZevhB"
   },
   "source": [
    "#### `applymap`\n",
    "\n",
    "[Documentação](https://pandas.pydata.org/pandas-docs/stable/reference/api/pandas.io.formats.style.Styler.applymap.html)"
   ]
  },
  {
   "cell_type": "code",
   "execution_count": null,
   "metadata": {
    "id": "dwRK5vwXevhB"
   },
   "outputs": [],
   "source": []
  },
  {
   "cell_type": "code",
   "execution_count": null,
   "metadata": {
    "id": "qyMctQrhevhD"
   },
   "outputs": [],
   "source": []
  },
  {
   "cell_type": "markdown",
   "metadata": {
    "id": "xklcN2wjevhD"
   },
   "source": [
    "#### `highlight_max` e `highlight_min`\n",
    "\n",
    "[Documentação: `highlight_max`](https://pandas.pydata.org/pandas-docs/stable/reference/api/pandas.io.formats.style.Styler.highlight_max.html)\n",
    "\n",
    "[Documentação: `highlight_min`](https://pandas.pydata.org/pandas-docs/stable/reference/api/pandas.io.formats.style.Styler.highlight_min.html)"
   ]
  },
  {
   "cell_type": "code",
   "execution_count": null,
   "metadata": {
    "id": "bH5k6L7FevhE"
   },
   "outputs": [],
   "source": []
  },
  {
   "cell_type": "code",
   "execution_count": null,
   "metadata": {
    "id": "QfSwVQg9evhE"
   },
   "outputs": [],
   "source": []
  },
  {
   "cell_type": "code",
   "execution_count": null,
   "metadata": {
    "id": "Q2WvRk1eevhF",
    "scrolled": true
   },
   "outputs": [],
   "source": []
  },
  {
   "cell_type": "code",
   "execution_count": null,
   "metadata": {
    "id": "JHoRZr3gevhG"
   },
   "outputs": [],
   "source": []
  },
  {
   "cell_type": "code",
   "execution_count": null,
   "metadata": {
    "id": "07rpMsdIevhG"
   },
   "outputs": [],
   "source": []
  },
  {
   "cell_type": "code",
   "execution_count": null,
   "metadata": {
    "id": "OkZyFqDdevhG"
   },
   "outputs": [],
   "source": []
  },
  {
   "cell_type": "code",
   "execution_count": null,
   "metadata": {
    "id": "WX5UuzeYevhG"
   },
   "outputs": [],
   "source": []
  },
  {
   "cell_type": "markdown",
   "metadata": {
    "id": "A13lh-6WevhH"
   },
   "source": [
    "#### `background_gradient`\n",
    "\n",
    "[Documentação](https://pandas.pydata.org/pandas-docs/stable/reference/api/pandas.io.formats.style.Styler.background_gradient.html)"
   ]
  },
  {
   "cell_type": "code",
   "execution_count": null,
   "metadata": {
    "id": "DUUt_GaRevhH"
   },
   "outputs": [],
   "source": []
  },
  {
   "cell_type": "code",
   "execution_count": null,
   "metadata": {
    "id": "Cqbg9GgvevhJ"
   },
   "outputs": [],
   "source": []
  },
  {
   "cell_type": "code",
   "execution_count": null,
   "metadata": {
    "id": "1YYNpDxbevhJ"
   },
   "outputs": [],
   "source": []
  },
  {
   "cell_type": "markdown",
   "metadata": {
    "id": "IKxU1RsFevhJ"
   },
   "source": [
    "#### `to_excel`\n",
    "\n",
    "[Documentação](https://pandas.pydata.org/pandas-docs/stable/reference/api/pandas.io.formats.style.Styler.to_excel.html)"
   ]
  },
  {
   "cell_type": "code",
   "execution_count": null,
   "metadata": {
    "id": "Hqc01SzXevhK"
   },
   "outputs": [],
   "source": []
  },
  {
   "cell_type": "markdown",
   "metadata": {
    "id": "A75CwZB0evhK"
   },
   "source": [
    "# ANEXOS\n",
    "---"
   ]
  },
  {
   "cell_type": "markdown",
   "metadata": {
    "id": "TcE_9F2eevhL"
   },
   "source": [
    "### Opções para o parâmetro `cmap`\n",
    "\n",
    "[Documentação](https://matplotlib.org/3.3.2/tutorials/colors/colormaps.html)"
   ]
  },
  {
   "cell_type": "code",
   "execution_count": null,
   "metadata": {
    "id": "hpyWIdU2evhL"
   },
   "outputs": [],
   "source": [
    "import numpy as np # noqa E402\n",
    "import matplotlib as mpl # noqa E402\n",
    "import matplotlib.pyplot as plt # noqa E402\n",
    "from matplotlib import cm # noqa E402\n",
    "from collections import OrderedDict # noqa E402\n",
    "\n",
    "cmaps = OrderedDict()"
   ]
  },
  {
   "cell_type": "code",
   "execution_count": null,
   "metadata": {
    "id": "DbvdFKVievhM"
   },
   "outputs": [],
   "source": [
    "cmaps['Perceptually Uniform Sequential'] = [\n",
    "            'viridis', 'plasma', 'inferno', 'magma', 'cividis']\n",
    "\n",
    "cmaps['Sequential'] = [\n",
    "            'Greys', 'Purples', 'Blues', 'Greens', 'Oranges', 'Reds',\n",
    "            'YlOrBr', 'YlOrRd', 'OrRd', 'PuRd', 'RdPu', 'BuPu',\n",
    "            'GnBu', 'PuBu', 'YlGnBu', 'PuBuGn', 'BuGn', 'YlGn']\n",
    "\n",
    "cmaps['Sequential (2)'] = [\n",
    "            'binary', 'gist_yarg', 'gist_gray', 'gray', 'bone', 'pink',\n",
    "            'spring', 'summer', 'autumn', 'winter', 'cool', 'Wistia',\n",
    "            'hot', 'afmhot', 'gist_heat', 'copper']\n",
    "\n",
    "cmaps['Diverging'] = [\n",
    "            'PiYG', 'PRGn', 'BrBG', 'PuOr', 'RdGy', 'RdBu',\n",
    "            'RdYlBu', 'RdYlGn', 'Spectral', 'coolwarm', 'bwr', 'seismic']\n",
    "\n",
    "cmaps['Cyclic'] = ['twilight', 'twilight_shifted', 'hsv']\n",
    "\n",
    "cmaps['Qualitative'] = ['Pastel1', 'Pastel2', 'Paired', 'Accent',\n",
    "                        'Dark2', 'Set1', 'Set2', 'Set3',\n",
    "                        'tab10', 'tab20', 'tab20b', 'tab20c']\n",
    "\n",
    "cmaps['Miscellaneous'] = [\n",
    "            'flag', 'prism', 'ocean', 'gist_earth', 'terrain', 'gist_stern',\n",
    "            'gnuplot', 'gnuplot2', 'CMRmap', 'cubehelix', 'brg',\n",
    "            'gist_rainbow', 'rainbow', 'jet', 'nipy_spectral',\n",
    "            'gist_ncar']"
   ]
  },
  {
   "cell_type": "code",
   "execution_count": null,
   "metadata": {
    "id": "krg94xcfevhM",
    "scrolled": false
   },
   "outputs": [],
   "source": [
    "nrows = max(len(cmap_list) for cmap_category, cmap_list in cmaps.items())\n",
    "gradient = np.linspace(0, 1, 256)\n",
    "gradient = np.vstack((gradient, gradient))\n",
    "\n",
    "\n",
    "def plot_color_gradients(cmap_category, cmap_list, nrows):\n",
    "    fig, axes = plt.subplots(nrows=nrows)\n",
    "    fig.subplots_adjust(top=0.95, bottom=0.01, left=0.2, right=0.99)\n",
    "    axes[0].set_title(cmap_category + ' colormaps', fontsize=14)\n",
    "\n",
    "    for ax, name in zip(axes, cmap_list):\n",
    "        ax.imshow(gradient, aspect='auto', cmap=plt.get_cmap(name))\n",
    "        pos = list(ax.get_position().bounds)\n",
    "        x_text = pos[0] - 0.01\n",
    "        y_text = pos[1] + pos[3]/2.\n",
    "        fig.text(x_text, y_text, name, va='center', ha='right', fontsize=10)\n",
    "\n",
    "    # Turn off *all* ticks & spines, not just the ones with colormaps.\n",
    "    for ax in axes:\n",
    "        ax.set_axis_off()\n",
    "\n",
    "\n",
    "for cmap_category, cmap_list in cmaps.items():\n",
    "    plot_color_gradients(cmap_category, cmap_list, nrows)\n",
    "\n",
    "plt.show()"
   ]
  },
  {
   "cell_type": "code",
   "execution_count": null,
   "metadata": {
    "id": "vmmcXYh2evhN"
   },
   "outputs": [],
   "source": []
  }
 ],
 "metadata": {
  "colab": {
   "name": "Projeto.ipynb",
   "provenance": []
  },
  "interpreter": {
   "hash": "e9fef662f6fb318d9bf1dfb2fb1e267543237b391b06ea389aea0d5a41cb6992"
  },
  "kernelspec": {
   "display_name": "Python 3.9.7 64-bit ('.venv')",
   "language": "python",
   "name": "python3"
  },
  "language_info": {
   "codemirror_mode": {
    "name": "ipython",
    "version": 3
   },
   "file_extension": ".py",
   "mimetype": "text/x-python",
   "name": "python",
   "nbconvert_exporter": "python",
   "pygments_lexer": "ipython3",
   "version": "3.9.12"
  },
  "toc": {
   "base_numbering": 1,
   "nav_menu": {},
   "number_sections": false,
   "sideBar": true,
   "skip_h1_title": false,
   "title_cell": "Table of Contents",
   "title_sidebar": "Contents",
   "toc_cell": false,
   "toc_position": {
    "height": "calc(100% - 180px)",
    "left": "10px",
    "top": "150px",
    "width": "268.2px"
   },
   "toc_section_display": true,
   "toc_window_display": false
  },
  "varInspector": {
   "cols": {
    "lenName": 16,
    "lenType": 16,
    "lenVar": 40
   },
   "kernels_config": {
    "python": {
     "delete_cmd_postfix": "",
     "delete_cmd_prefix": "del ",
     "library": "var_list.py",
     "varRefreshCmd": "print(var_dic_list())"
    },
    "r": {
     "delete_cmd_postfix": ") ",
     "delete_cmd_prefix": "rm(",
     "library": "var_list.r",
     "varRefreshCmd": "cat(var_dic_list()) "
    }
   },
   "types_to_exclude": [
    "module",
    "function",
    "builtin_function_or_method",
    "instance",
    "_Feature"
   ],
   "window_display": false
  }
 },
 "nbformat": 4,
 "nbformat_minor": 1
}
